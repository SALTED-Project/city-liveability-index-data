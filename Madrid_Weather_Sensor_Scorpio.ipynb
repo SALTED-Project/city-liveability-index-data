{
 "cells": [
  {
   "cell_type": "code",
   "execution_count": 1,
   "id": "77b565de-4e3d-45f0-8c0f-5c7447557ef2",
   "metadata": {},
   "outputs": [],
   "source": [
    "import sys\n",
    "sys.path.append(\"/home/scorpio/ngsild-pythonclient-initial_ngsild_client/src/\")\n",
    "\n",
    "import ast\n",
    "import json\n",
    "from ngsildclient.client import Client\n",
    "from ngsildclient.entity import Entity\n",
    "import csv\n",
    "import time\n",
    "from datetime import datetime\n",
    "import pandas as pd \n",
    "import numpy as np\n",
    "from geojson.geometry import Point, Polygon, MultiLineString\n",
    "\n",
    "client_obj = Client(\"localhost\", \"9090\") # connect to scorpio\n",
    "\n",
    "def publish(entity):\n",
    "    response = client_obj.temporal_create(entity)\n",
    "    #print(response)\n",
    "    if response['status_code']> 400:\n",
    "        print(\"ERROR: Cannot publish data from the NGSI client.\")\n",
    "    return response\n",
    "\n"
   ]
  },
  {
   "cell_type": "code",
   "execution_count": 2,
   "id": "dd210abb-4f83-42ad-8b94-cc5f7225a894",
   "metadata": {},
   "outputs": [],
   "source": [
    "num_rows_batch_publish=5000 # number of objects to be batch published to Scorpio"
   ]
  },
  {
   "cell_type": "markdown",
   "id": "7b027f27-c09a-4433-98d7-e5440ebcb074",
   "metadata": {},
   "source": [
    "# Notes:\n",
    "Consider every hexagon as an entity, and sensor data as properties"
   ]
  },
  {
   "cell_type": "code",
   "execution_count": 3,
   "id": "a4a032b7-b6fb-435c-acf6-d4cdf5da96da",
   "metadata": {
    "tags": []
   },
   "outputs": [],
   "source": [
    "import pandas as pd\n",
    "import geopandas as gpd\n",
    "\n",
    "from geojson.geometry import Point, Polygon, MultiLineString\n"
   ]
  },
  {
   "cell_type": "code",
   "execution_count": 4,
   "id": "1afba32c-ab41-4fe9-8acf-5aff1cd2f488",
   "metadata": {
    "tags": []
   },
   "outputs": [],
   "source": [
    "gdf_1 = pd.read_pickle('./../cgarrido/madrid_data/weather/2022/gdf_proc_irradiation.pkl')\n",
    "gdf_2 = pd.read_pickle('./../cgarrido/madrid_data/weather/2022/gdf_proc_P.pkl')\n",
    "gdf_3 = pd.read_pickle('./../cgarrido/madrid_data/weather/2022/gdf_proc_rain.pkl')\n",
    "gdf_4 = pd.read_pickle('./../cgarrido/madrid_data/weather/2022/gdf_proc_RH.pkl')\n",
    "gdf_5 = pd.read_pickle('./../cgarrido/madrid_data/weather/2022/gdf_proc_temperature.pkl')\n",
    "gdf_6 = pd.read_pickle('./../cgarrido/madrid_data/weather/2022/gdf_proc_wind_dir.pkl')\n",
    "gdf_7 = pd.read_pickle('./../cgarrido/madrid_data/weather/2022/gdf_proc_wind_speed.pkl')\n",
    "\n",
    "gdf_1= gdf_1.rename(columns={\"id\": \"station_id\"})\n",
    "gdf_2=gdf_2.rename(columns={\"id\": \"station_id\"})\n",
    "gdf_3= gdf_3.rename(columns={\"id\": \"station_id\"})\n",
    "gdf_4=gdf_4.rename(columns={\"id\": \"station_id\"})\n",
    "gdf_5= gdf_5.rename(columns={\"id\": \"station_id\"})\n",
    "gdf_6= gdf_6.rename(columns={\"id\": \"station_id\"})\n",
    "gdf_7= gdf_7.rename(columns={\"id\": \"station_id\"})\n"
   ]
  },
  {
   "cell_type": "code",
   "execution_count": 5,
   "id": "6435a459-7554-4047-9e8e-a7bfed973de3",
   "metadata": {
    "tags": []
   },
   "outputs": [],
   "source": [
    "gdf_list= [gdf_1, gdf_2, gdf_3, gdf_4, gdf_5, gdf_6, gdf_7 ]\n",
    "gdf_property_list=[\"Irradiation\", \"P\", \"Rain\", \"RH\", \"Temperature\", \"Wind_Direction\", \"Wind_Speed\"]\n",
    "entity_id_prefix =  \"urn:ngsi-ld:WeatherObserved:Madrid\"\n",
    "entity_type = 'WeatherObserved'\n"
   ]
  },
  {
   "cell_type": "markdown",
   "id": "eea66d2e-2164-48b1-b82e-7c04a289756a",
   "metadata": {},
   "source": [
    "1- Check context and add context (smart data model link) to the @context tag\n",
    "\n",
    "2- Geometry: Change geometry to location. Location is a geoproperty. Give the point values as \"coordinates\". Keep the observedat on every property.\n",
    "\n",
    "3- Convert coordinates to lon/lat\n",
    "\n",
    "4- Add no2, so2 as property (not as a separate entity). One entity per hexagon\n",
    ". \n",
    "5- Add district instead of hexagons\n"
   ]
  },
  {
   "cell_type": "code",
   "execution_count": null,
   "id": "93304e19-9302-4661-abba-9e4b4688257b",
   "metadata": {},
   "outputs": [
    {
     "name": "stdout",
     "output_type": "stream",
     "text": [
      "urn:ngsi-ld:WeatherObserved:MadridIrradiation:24\n",
      "INFO: Example data from the dataset to be published - as an example on how data looks.\n",
      "{'id': 'urn:ngsi-ld:WeatherObserved:MadridIrradiation:ID:24', 'type': 'WeatherObserved', '@context': ['https://uri.etsi.org/ngsi-ld/v1/ngsi-ld-core-context.jsonld'], 'station_id': {'type': 'Property', 'value': '24', 'observedAt': '2022-01-01T00:00:00Z'}, 'geometry': {'type': 'Property', 'value': 'POINT (-417152.48156697437 4927070.647350454)', 'observedAt': '2022-01-01T00:00:00Z'}, 'year': {'type': 'Property', 'value': '2022', 'observedAt': '2022-01-01T00:00:00Z'}, 'month': {'type': 'Property', 'value': '1', 'observedAt': '2022-01-01T00:00:00Z'}, 'day': {'type': 'Property', 'value': '1', 'observedAt': '2022-01-01T00:00:00Z'}, 'hour': {'type': 'Property', 'value': '0', 'observedAt': '2022-01-01T00:00:00Z'}, 'minute': {'type': 'Property', 'value': '0', 'observedAt': '2022-01-01T00:00:00Z'}, 'weekday': {'type': 'Property', 'value': '5', 'observedAt': '2022-01-01T00:00:00Z'}, 'altitude': {'type': 'Property', 'value': '646.0', 'observedAt': '2022-01-01T00:00:00Z'}, 'lat': {'type': 'Property', 'value': '40.412544422492616', 'observedAt': '2022-01-01T00:00:00Z'}, 'location': {'type': 'GeoProperty', 'value': {\"coordinates\": [40.412544, -3.758228], \"type\": \"Point\"}, 'observedAt': '2022-01-01T00:00:00Z'}}\n",
      "urn:ngsi-ld:WeatherObserved:MadridIrradiation:54\n",
      "urn:ngsi-ld:WeatherObserved:MadridIrradiation:59\n",
      "... published data for dataset: Irradiation\n",
      "Info: Dataset is published successfully --- It took 125.63990076002665 seconds to publish the dataset with length 105120\n",
      "urn:ngsi-ld:WeatherObserved:MadridP:24\n",
      "INFO: Example data from the dataset to be published - as an example on how data looks.\n",
      "{'id': 'urn:ngsi-ld:WeatherObserved:MadridP:ID:24', 'type': 'WeatherObserved', '@context': ['https://uri.etsi.org/ngsi-ld/v1/ngsi-ld-core-context.jsonld'], 'station_id': {'type': 'Property', 'value': '24', 'observedAt': '2022-01-01T00:00:00Z'}, 'geometry': {'type': 'Property', 'value': 'POINT (-417152.48156697437 4927070.647350454)', 'observedAt': '2022-01-01T00:00:00Z'}, 'year': {'type': 'Property', 'value': '2022', 'observedAt': '2022-01-01T00:00:00Z'}, 'month': {'type': 'Property', 'value': '1', 'observedAt': '2022-01-01T00:00:00Z'}, 'day': {'type': 'Property', 'value': '1', 'observedAt': '2022-01-01T00:00:00Z'}, 'hour': {'type': 'Property', 'value': '0', 'observedAt': '2022-01-01T00:00:00Z'}, 'minute': {'type': 'Property', 'value': '0', 'observedAt': '2022-01-01T00:00:00Z'}, 'weekday': {'type': 'Property', 'value': '5', 'observedAt': '2022-01-01T00:00:00Z'}, 'altitude': {'type': 'Property', 'value': '646.0', 'observedAt': '2022-01-01T00:00:00Z'}, 'lat': {'type': 'Property', 'value': '40.412544422492616', 'observedAt': '2022-01-01T00:00:00Z'}, 'location': {'type': 'GeoProperty', 'value': {\"coordinates\": [40.412544, -3.758228], \"type\": \"Point\"}, 'observedAt': '2022-01-01T00:00:00Z'}}\n",
      "urn:ngsi-ld:WeatherObserved:MadridP:56\n",
      "urn:ngsi-ld:WeatherObserved:MadridP:59\n",
      "... published data for dataset: P\n",
      "Info: Dataset is published successfully --- It took 173.31521632894874 seconds to publish the dataset with length 105120\n",
      "urn:ngsi-ld:WeatherObserved:MadridRain:24\n",
      "INFO: Example data from the dataset to be published - as an example on how data looks.\n",
      "{'id': 'urn:ngsi-ld:WeatherObserved:MadridRain:ID:24', 'type': 'WeatherObserved', '@context': ['https://uri.etsi.org/ngsi-ld/v1/ngsi-ld-core-context.jsonld'], 'station_id': {'type': 'Property', 'value': '24', 'observedAt': '2022-01-01T00:00:00Z'}, 'geometry': {'type': 'Property', 'value': 'POINT (-417152.48156697437 4927070.647350454)', 'observedAt': '2022-01-01T00:00:00Z'}, 'year': {'type': 'Property', 'value': '2022', 'observedAt': '2022-01-01T00:00:00Z'}, 'month': {'type': 'Property', 'value': '1', 'observedAt': '2022-01-01T00:00:00Z'}, 'day': {'type': 'Property', 'value': '1', 'observedAt': '2022-01-01T00:00:00Z'}, 'hour': {'type': 'Property', 'value': '0', 'observedAt': '2022-01-01T00:00:00Z'}, 'minute': {'type': 'Property', 'value': '0', 'observedAt': '2022-01-01T00:00:00Z'}, 'weekday': {'type': 'Property', 'value': '5', 'observedAt': '2022-01-01T00:00:00Z'}, 'altitude': {'type': 'Property', 'value': '646.0', 'observedAt': '2022-01-01T00:00:00Z'}, 'lat': {'type': 'Property', 'value': '40.412544422492616', 'observedAt': '2022-01-01T00:00:00Z'}, 'location': {'type': 'GeoProperty', 'value': {\"coordinates\": [40.412544, -3.758228], \"type\": \"Point\"}, 'observedAt': '2022-01-01T00:00:00Z'}}\n",
      "urn:ngsi-ld:WeatherObserved:MadridRain:39\n",
      "urn:ngsi-ld:WeatherObserved:MadridRain:54\n",
      "urn:ngsi-ld:WeatherObserved:MadridRain:56\n",
      "urn:ngsi-ld:WeatherObserved:MadridRain:59\n",
      "... published data for dataset: Rain\n",
      "Info: Dataset is published successfully --- It took 230.35854061786085 seconds to publish the dataset with length 175200\n",
      "urn:ngsi-ld:WeatherObserved:MadridRH:8\n",
      "INFO: Example data from the dataset to be published - as an example on how data looks.\n",
      "{'id': 'urn:ngsi-ld:WeatherObserved:MadridRH:ID:8', 'type': 'WeatherObserved', '@context': ['https://uri.etsi.org/ngsi-ld/v1/ngsi-ld-core-context.jsonld'], 'station_id': {'type': 'Property', 'value': '8', 'observedAt': '2022-01-01T00:00:00Z'}, 'geometry': {'type': 'Property', 'value': 'POINT (-409913.5197960258 4927391.691444065)', 'observedAt': '2022-01-01T00:00:00Z'}, 'year': {'type': 'Property', 'value': '2022', 'observedAt': '2022-01-01T00:00:00Z'}, 'month': {'type': 'Property', 'value': '1', 'observedAt': '2022-01-01T00:00:00Z'}, 'day': {'type': 'Property', 'value': '1', 'observedAt': '2022-01-01T00:00:00Z'}, 'hour': {'type': 'Property', 'value': '0', 'observedAt': '2022-01-01T00:00:00Z'}, 'minute': {'type': 'Property', 'value': '0', 'observedAt': '2022-01-01T00:00:00Z'}, 'weekday': {'type': 'Property', 'value': '5', 'observedAt': '2022-01-01T00:00:00Z'}, 'altitude': {'type': 'Property', 'value': '672.0', 'observedAt': '2022-01-01T00:00:00Z'}, 'lat': {'type': 'Property', 'value': '40.42477527742172', 'observedAt': '2022-01-01T00:00:00Z'}, 'location': {'type': 'GeoProperty', 'value': {\"coordinates\": [40.424775, -3.674293], \"type\": \"Point\"}, 'observedAt': '2022-01-01T00:00:00Z'}}\n",
      "urn:ngsi-ld:WeatherObserved:MadridRH:24\n",
      "urn:ngsi-ld:WeatherObserved:MadridRH:35\n",
      "urn:ngsi-ld:WeatherObserved:MadridRH:36\n",
      "urn:ngsi-ld:WeatherObserved:MadridRH:38\n",
      "urn:ngsi-ld:WeatherObserved:MadridRH:39\n",
      "urn:ngsi-ld:WeatherObserved:MadridRH:54\n",
      "urn:ngsi-ld:WeatherObserved:MadridRH:56\n",
      "urn:ngsi-ld:WeatherObserved:MadridRH:58\n",
      "urn:ngsi-ld:WeatherObserved:MadridRH:59\n",
      "... published data for dataset: RH\n",
      "Info: Dataset is published successfully --- It took 415.40051752282307 seconds to publish the dataset with length 350400\n",
      "urn:ngsi-ld:WeatherObserved:MadridTemperature:8\n",
      "INFO: Example data from the dataset to be published - as an example on how data looks.\n",
      "{'id': 'urn:ngsi-ld:WeatherObserved:MadridTemperature:ID:8', 'type': 'WeatherObserved', '@context': ['https://uri.etsi.org/ngsi-ld/v1/ngsi-ld-core-context.jsonld'], 'station_id': {'type': 'Property', 'value': '8', 'observedAt': '2022-01-01T00:00:00Z'}, 'geometry': {'type': 'Property', 'value': 'POINT (-409913.5197960258 4927391.691444065)', 'observedAt': '2022-01-01T00:00:00Z'}, 'year': {'type': 'Property', 'value': '2022', 'observedAt': '2022-01-01T00:00:00Z'}, 'month': {'type': 'Property', 'value': '1', 'observedAt': '2022-01-01T00:00:00Z'}, 'day': {'type': 'Property', 'value': '1', 'observedAt': '2022-01-01T00:00:00Z'}, 'hour': {'type': 'Property', 'value': '0', 'observedAt': '2022-01-01T00:00:00Z'}, 'minute': {'type': 'Property', 'value': '0', 'observedAt': '2022-01-01T00:00:00Z'}, 'weekday': {'type': 'Property', 'value': '5', 'observedAt': '2022-01-01T00:00:00Z'}, 'altitude': {'type': 'Property', 'value': '672.0', 'observedAt': '2022-01-01T00:00:00Z'}, 'lat': {'type': 'Property', 'value': '40.42477527742172', 'observedAt': '2022-01-01T00:00:00Z'}, 'location': {'type': 'GeoProperty', 'value': {\"coordinates\": [40.424775, -3.674293], \"type\": \"Point\"}, 'observedAt': '2022-01-01T00:00:00Z'}}\n",
      "urn:ngsi-ld:WeatherObserved:MadridTemperature:18\n"
     ]
    }
   ],
   "source": [
    "\n",
    "\n",
    "example_flag=False\n",
    "for property_index, tmp_gdf in enumerate(gdf_list): # for each dataset \n",
    "    ingestion_starttime= time.perf_counter() \n",
    "    example_flag=True\n",
    "    sensor_name =gdf_property_list[property_index]\n",
    "    counter =0\n",
    "    uniqueStationIDs= tmp_gdf['station_id'].unique()\n",
    "    dataset_length= len(tmp_gdf)\n",
    "    feature_list= tmp_gdf.columns.tolist()\n",
    "\n",
    "    for u in uniqueStationIDs:\n",
    "        station_tmp_gdf = tmp_gdf[tmp_gdf['station_id'] == u] # take data coming only from this station ID (this sensor entity)\n",
    "        entity_obj = Entity(entity_type, entity_id_prefix + sensor_name + \":ID:\" + str(int(u)) ) # initialize the entity for the new station\n",
    "        print(entity_id_prefix + str(sensor_name) + \":\" + str(u))\n",
    "        counter=0 # start pushing data about this entity\n",
    "        for index, row in station_tmp_gdf.iterrows():\n",
    "\n",
    "            lat=0\n",
    "            lon=0\n",
    "            if counter %num_rows_batch_publish==0: # create a new clean entity everytime a batch is completed/published to avoid duplicate push of same values \n",
    "                entity_obj = Entity(entity_type, entity_id_prefix + sensor_name + \":ID:\" + str(int(u))) # (re-)initialize the entity\n",
    "            for f in range(len(feature_list)):\n",
    "                if feature_list[f] == 'lat': lat = row[f]\n",
    "                if feature_list[f] == 'lon': lon=row[f]\n",
    "                if lat !=0 and lon !=0: # both values are obtained for location, add the location attribute \n",
    "                    location_value = Point((lat, lon))\n",
    "                    entity_obj.add_geoprop(\"location\", location_value, observedAt= datetime.strptime(str(row.datetime), '%Y-%m-%d %H:%M:%S')) # MAKE THIS A POINT (SIVA EXAMPLE)\n",
    "                elif feature_list[f] == 'data':\n",
    "                    entity_obj.add_prop(sensor_name, str(row[f]) , observedAt= datetime.strptime(str(row.datetime), '%Y-%m-%d %H:%M:%S'))                 \n",
    "                elif(feature_list[f] not in ['datetime','type']):\n",
    "                    entity_obj.add_prop(feature_list[f], str(row[f]) , observedAt= datetime.strptime(str(row.datetime), '%Y-%m-%d %H:%M:%S'))                 \n",
    "            if example_flag:\n",
    "                print('INFO: Example data from the dataset to be published - as an example on how data looks.')\n",
    "                print(entity_obj)\n",
    "                example_flag=False\n",
    "\n",
    "            if (counter %num_rows_batch_publish==0 or counter == len(station_tmp_gdf)-1) and  counter!=0: # publish the batch data for entity to scorpio as the rows fulfill the number of rows needed for a batch, or the dataset has come to the end\n",
    "                publish(entity_obj.to_dict()) # publish the entity\n",
    "            counter+=1 \n",
    "    print(\"... published data for dataset: \" +  sensor_name)\n",
    "\n",
    "    ingestion_endtime= time.perf_counter() \n",
    "    print('Info: Dataset is published successfully' \n",
    "        \n",
    "          + ' --- It took ' + str(ingestion_endtime -ingestion_starttime) + ' seconds to publish the dataset with length ' + str(dataset_length))\n"
   ]
  },
  {
   "cell_type": "code",
   "execution_count": null,
   "id": "fa949800-baf0-4de6-9f70-95ccaa5d1d31",
   "metadata": {
    "tags": []
   },
   "outputs": [],
   "source": [
    "gdf_1\n"
   ]
  },
  {
   "cell_type": "code",
   "execution_count": null,
   "id": "533a4432-d8eb-4f42-84b1-c8f712bad64a",
   "metadata": {},
   "outputs": [],
   "source": []
  },
  {
   "cell_type": "markdown",
   "id": "75197172-d6fe-455d-94ee-8b0b27cb65c9",
   "metadata": {},
   "source": [
    "# Query temporal entity from Scorpio and get it as Pandas"
   ]
  },
  {
   "cell_type": "code",
   "execution_count": null,
   "id": "91bee003-eb6d-434a-a3e8-4c7e28d0fce5",
   "metadata": {},
   "outputs": [],
   "source": [
    "\n",
    "client_obj = Client(\"localhost\", \"9090\")\n",
    "pandas_data= client_obj.get_temporal(\"urn:ngsi-ld:AirQualityObserved:Madrid:Hexagon:0\", entityType=\"AirQualityObserved\", pandasSeries=True, attribute=\"value\")\n",
    "print(pandas_data)\n",
    "print(type(pandas_data))\n",
    "\n"
   ]
  },
  {
   "cell_type": "markdown",
   "id": "ed291734-7cca-42f0-ae7f-63e5fd35a0e0",
   "metadata": {},
   "source": [
    "## BACKUP CODE\n",
    "\n",
    "import time\n",
    "\n",
    "\n",
    "for entity_index, tmp_gdf in enumerate(gdf_list): # for each dataset \n",
    "        \n",
    "    feature_list= tmp_gdf.columns.tolist()\n",
    "    for index, row in tmp_gdf.iterrows():\n",
    "        if index %num_rows_batch_publish==0: # create a new clean entity everytime a batch is completed/published to avoid duplicate push of same values \n",
    "            entity_obj = Entity(entity_type_list[entity_index], entity_id_list[entity_index]) # (re-)initialize the entity\n",
    "        for i in range(len(feature_list)):\n",
    "            if feature_list[i] =='type': feature_list[i] ='road_type' # quick fix for the error of \"type\" conflicting with ngsi-ld \"type\"\n",
    "            if(feature_list[i] not in ['datetime','type']):\n",
    "                entity_obj.add_prop(feature_list[i], str(row[i]) , observedAt= datetime.strptime(str(row.datetime), '%Y-%m-%d %H:%M:%S'))                 \n",
    "        if index == 0:\n",
    "            print('INFO: Initial row of the dataset to be published - as an example on how data looks.')\n",
    "            print(entity_obj)\n",
    "            \n",
    "        #ingestion_starttime= time.perf_counter()\n",
    "        temp_objects.append(entity_obj)\n",
    "        if (index %num_rows_batch_publish==0 or index == len(tmp_gdf)-1) and  index!=0: # publish the batch data for entity to scorpio as the rows fulfill the number of rows needed for a batch, or the dataset has come to the end\n",
    "            publish(entity_obj.to_dict()) # publish the entity\n",
    "    \n",
    "        f(index%10000 ==0):\n",
    "            print(\"... published data count: \" +  str(index))\n",
    "\n",
    "        #print('Info: Ingestion took ' + str(ingestion_endtime -ingestion_starttime) + ' seconds for ' +  str(num_rows_batch_publish) + ' objects')\n",
    "\n",
    "    print('Info: Dataset is published successfully with entity ID: ' + str(entity_id_list[entity_index]))\n"
   ]
  },
  {
   "cell_type": "code",
   "execution_count": null,
   "id": "a0e99bdb-9d62-4d51-b6e6-0f93d8957623",
   "metadata": {},
   "outputs": [],
   "source": [
    "\n"
   ]
  }
 ],
 "metadata": {
  "kernelspec": {
   "display_name": "Python 3 (ipykernel)",
   "language": "python",
   "name": "python3"
  },
  "language_info": {
   "codemirror_mode": {
    "name": "ipython",
    "version": 3
   },
   "file_extension": ".py",
   "mimetype": "text/x-python",
   "name": "python",
   "nbconvert_exporter": "python",
   "pygments_lexer": "ipython3",
   "version": "3.8.10"
  }
 },
 "nbformat": 4,
 "nbformat_minor": 5
}
